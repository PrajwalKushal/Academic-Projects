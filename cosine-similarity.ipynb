{
 "cells": [
  {
   "cell_type": "code",
   "execution_count": null,
   "id": "d82e7b59",
   "metadata": {},
   "outputs": [],
   "source": [
    "import cv2\n",
    "import numpy as np\n",
    "from skimage.io import imread, imshow\n",
    "from skimage.transform import resize\n",
    "from skimage.feature import hog\n",
    "from skimage import exposure\n",
    "from skimage.feature import hog\n",
    "from scipy.spatial.distance import cosine\n",
    "from sklearn import svm\n",
    "from PIL import Image\n",
    "\n",
    "\n",
    "# Define the sliding window function\n",
    "def sliding_window(image, step_size, window_size):\n",
    "    \"\"\"\n",
    "    Slide a window across the image and return the window location and content.\n",
    "    \"\"\"\n",
    "    for y in range(0, image.shape[0] - window_size[1], step_size):\n",
    "        for x in range(0, image.shape[1] - window_size[0], step_size):\n",
    "            yield (x, y, image[y:y + window_size[1], x:x + window_size[0]])\n",
    "            \n",
    "            \n",
    "# Define the convert to vector function\n",
    "def convert_to_vector(arr):\n",
    "    \"\"\"\n",
    "    Flatten a multi-dimensional array into a one-dimensional vector.\n",
    "    \"\"\"\n",
    "    return arr.flatten()   \n",
    "     \n",
    "\n",
    "# Load the image A and extract its HOG features\n",
    "image_a = cv2.imread('numplate6.jpg', 0)\n",
    "\n",
    "#resizing image \n",
    "resized_image_a = resize(image_a, (100,150)) \n",
    "\n",
    "\n",
    "hog_features_a = hog(resized_image_a, orientations=9, pixels_per_cell=(8, 8), cells_per_block=(3, 3))\n",
    "\n",
    "# Load the image B\n",
    "image_b = cv2.imread('numplate5.jpg', 0)\n",
    "\n",
    "\n",
    "# Initialize variables to store the maximum similarity and best location\n",
    "max_sim = 0\n",
    "best_loc = None\n",
    "\n",
    "# Define the sliding window parameters\n",
    "window_size = (100, 100)\n",
    "step_size = 1\n",
    "\n",
    "# Slide the window across the image B and detect the presence of image A\n",
    "for (x, y, sub_image) in sliding_window(image_b, step_size, window_size):\n",
    "    \n",
    "    #resizing sub_image \n",
    "    resized_sub_image = resize(sub_image, (100,150)) \n",
    "\n",
    "    \n",
    "    # Extract the HOG features of the sub-image\n",
    "    hog_features_b = hog(resized_sub_image, orientations=9, pixels_per_cell=(8, 8), cells_per_block=(3, 3))\n",
    "\n",
    "    \n",
    "    # Compute the cosine similarity between the HOG features of image A and the sub-image\n",
    "    sim = 1 - cosine(hog_features_a, hog_features_b)\n",
    "\n",
    "    # Update the maximum similarity and best location if necessary\n",
    "    if sim > max_sim:\n",
    "        max_sim = sim\n",
    "        best_loc = (x, y)\n",
    "        \n",
    "# Draw a rectangle around the detected location\n",
    "cv2.rectangle(image_b, best_loc, (best_loc[0] + window_size[0], best_loc[1] + window_size[1]), (0, 255, 0), 1)\n",
    "print(cv2.rectangle)\n",
    "\n",
    "# Show the result\n",
    "cv2.imshow('Result', image_b)\n",
    "cv2.waitKey(0)\n",
    "cv2.destroyAllWindows()           "
   ]
  },
  {
   "cell_type": "code",
   "execution_count": null,
   "id": "53a57ba9",
   "metadata": {},
   "outputs": [],
   "source": []
  },
  {
   "cell_type": "code",
   "execution_count": null,
   "id": "2059ac24",
   "metadata": {},
   "outputs": [],
   "source": []
  },
  {
   "cell_type": "code",
   "execution_count": null,
   "id": "9b283125",
   "metadata": {},
   "outputs": [],
   "source": []
  },
  {
   "cell_type": "code",
   "execution_count": null,
   "id": "5855eabe",
   "metadata": {},
   "outputs": [],
   "source": []
  },
  {
   "cell_type": "code",
   "execution_count": null,
   "id": "69b5cc74",
   "metadata": {},
   "outputs": [],
   "source": []
  },
  {
   "cell_type": "code",
   "execution_count": null,
   "id": "aec634e5",
   "metadata": {},
   "outputs": [],
   "source": []
  },
  {
   "cell_type": "code",
   "execution_count": null,
   "id": "8ea93b29",
   "metadata": {},
   "outputs": [],
   "source": []
  },
  {
   "cell_type": "code",
   "execution_count": null,
   "id": "9cd22c4f",
   "metadata": {},
   "outputs": [],
   "source": []
  },
  {
   "cell_type": "code",
   "execution_count": null,
   "id": "49e83168",
   "metadata": {},
   "outputs": [],
   "source": []
  },
  {
   "cell_type": "code",
   "execution_count": null,
   "id": "c6932aef",
   "metadata": {},
   "outputs": [],
   "source": []
  },
  {
   "cell_type": "code",
   "execution_count": null,
   "id": "0a6d4270",
   "metadata": {},
   "outputs": [],
   "source": []
  },
  {
   "cell_type": "code",
   "execution_count": null,
   "id": "4506ba82",
   "metadata": {},
   "outputs": [],
   "source": []
  },
  {
   "cell_type": "code",
   "execution_count": null,
   "id": "ce957777",
   "metadata": {},
   "outputs": [],
   "source": []
  },
  {
   "cell_type": "code",
   "execution_count": null,
   "id": "d1b5945b",
   "metadata": {},
   "outputs": [],
   "source": []
  },
  {
   "cell_type": "code",
   "execution_count": null,
   "id": "f35c88a2",
   "metadata": {},
   "outputs": [],
   "source": []
  },
  {
   "cell_type": "code",
   "execution_count": null,
   "id": "7339fc0f",
   "metadata": {},
   "outputs": [],
   "source": []
  },
  {
   "cell_type": "code",
   "execution_count": null,
   "id": "c6c457aa",
   "metadata": {},
   "outputs": [],
   "source": []
  },
  {
   "cell_type": "code",
   "execution_count": null,
   "id": "47ee8d4b",
   "metadata": {},
   "outputs": [],
   "source": []
  },
  {
   "cell_type": "code",
   "execution_count": null,
   "id": "3fc3a6aa",
   "metadata": {},
   "outputs": [],
   "source": []
  },
  {
   "cell_type": "code",
   "execution_count": null,
   "id": "442d8099",
   "metadata": {},
   "outputs": [],
   "source": []
  },
  {
   "cell_type": "code",
   "execution_count": null,
   "id": "0c537b36",
   "metadata": {},
   "outputs": [],
   "source": []
  },
  {
   "cell_type": "code",
   "execution_count": null,
   "id": "9d64ecf6",
   "metadata": {},
   "outputs": [],
   "source": []
  },
  {
   "cell_type": "code",
   "execution_count": null,
   "id": "c200f271",
   "metadata": {},
   "outputs": [],
   "source": []
  },
  {
   "cell_type": "code",
   "execution_count": null,
   "id": "5139642f",
   "metadata": {},
   "outputs": [],
   "source": []
  },
  {
   "cell_type": "code",
   "execution_count": null,
   "id": "48e07421",
   "metadata": {},
   "outputs": [],
   "source": []
  },
  {
   "cell_type": "code",
   "execution_count": null,
   "id": "2eeacfb1",
   "metadata": {},
   "outputs": [],
   "source": []
  },
  {
   "cell_type": "code",
   "execution_count": null,
   "id": "a9d2cdb3",
   "metadata": {},
   "outputs": [],
   "source": []
  },
  {
   "cell_type": "code",
   "execution_count": null,
   "id": "5fca7e88",
   "metadata": {},
   "outputs": [],
   "source": []
  }
 ],
 "metadata": {
  "kernelspec": {
   "display_name": "Python 3 (ipykernel)",
   "language": "python",
   "name": "python3"
  },
  "language_info": {
   "codemirror_mode": {
    "name": "ipython",
    "version": 3
   },
   "file_extension": ".py",
   "mimetype": "text/x-python",
   "name": "python",
   "nbconvert_exporter": "python",
   "pygments_lexer": "ipython3",
   "version": "3.9.13"
  }
 },
 "nbformat": 4,
 "nbformat_minor": 5
}
