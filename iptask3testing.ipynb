{
 "cells": [
  {
   "cell_type": "code",
   "execution_count": 1,
   "id": "cfd58f9a",
   "metadata": {},
   "outputs": [
    {
     "name": "stderr",
     "output_type": "stream",
     "text": [
      "D:\\new\\Lib\\site-packages\\paramiko\\transport.py:219: CryptographyDeprecationWarning: Blowfish has been deprecated\n",
      "  \"class\": algorithms.Blowfish,\n"
     ]
    },
    {
     "ename": "AttributeError",
     "evalue": "'NoneType' object has no attribute 'shape'",
     "output_type": "error",
     "traceback": [
      "\u001b[1;31m---------------------------------------------------------------------------\u001b[0m",
      "\u001b[1;31mAttributeError\u001b[0m                            Traceback (most recent call last)",
      "Cell \u001b[1;32mIn[1], line 53\u001b[0m\n\u001b[0;32m     50\u001b[0m step_size \u001b[38;5;241m=\u001b[39m \u001b[38;5;241m1\u001b[39m\n\u001b[0;32m     52\u001b[0m \u001b[38;5;66;03m# Slide the window across the image B and detect the presence of image A\u001b[39;00m\n\u001b[1;32m---> 53\u001b[0m \u001b[38;5;28;01mfor\u001b[39;00m (x, y, sub_image) \u001b[38;5;129;01min\u001b[39;00m sliding_window(image_b, step_size, window_size):\n\u001b[0;32m     54\u001b[0m     \n\u001b[0;32m     55\u001b[0m     \u001b[38;5;66;03m#resizing sub_image \u001b[39;00m\n\u001b[0;32m     56\u001b[0m     resized_sub_image \u001b[38;5;241m=\u001b[39m resize(sub_image, (\u001b[38;5;241m100\u001b[39m,\u001b[38;5;241m150\u001b[39m)) \n\u001b[0;32m     59\u001b[0m     \u001b[38;5;66;03m# Extract the HOG features of the sub-image\u001b[39;00m\n",
      "Cell \u001b[1;32mIn[1], line 18\u001b[0m, in \u001b[0;36msliding_window\u001b[1;34m(image, step_size, window_size)\u001b[0m\n\u001b[0;32m     14\u001b[0m \u001b[38;5;28;01mdef\u001b[39;00m \u001b[38;5;21msliding_window\u001b[39m(image, step_size, window_size):\n\u001b[0;32m     15\u001b[0m \u001b[38;5;250m    \u001b[39m\u001b[38;5;124;03m\"\"\"\u001b[39;00m\n\u001b[0;32m     16\u001b[0m \u001b[38;5;124;03m    Slide a window across the image and return the window location and content.\u001b[39;00m\n\u001b[0;32m     17\u001b[0m \u001b[38;5;124;03m    \"\"\"\u001b[39;00m\n\u001b[1;32m---> 18\u001b[0m     \u001b[38;5;28;01mfor\u001b[39;00m y \u001b[38;5;129;01min\u001b[39;00m \u001b[38;5;28mrange\u001b[39m(\u001b[38;5;241m0\u001b[39m, image\u001b[38;5;241m.\u001b[39mshape[\u001b[38;5;241m0\u001b[39m] \u001b[38;5;241m-\u001b[39m window_size[\u001b[38;5;241m1\u001b[39m], step_size):\n\u001b[0;32m     19\u001b[0m         \u001b[38;5;28;01mfor\u001b[39;00m x \u001b[38;5;129;01min\u001b[39;00m \u001b[38;5;28mrange\u001b[39m(\u001b[38;5;241m0\u001b[39m, image\u001b[38;5;241m.\u001b[39mshape[\u001b[38;5;241m1\u001b[39m] \u001b[38;5;241m-\u001b[39m window_size[\u001b[38;5;241m0\u001b[39m], step_size):\n\u001b[0;32m     20\u001b[0m             \u001b[38;5;28;01myield\u001b[39;00m (x, y, image[y:y \u001b[38;5;241m+\u001b[39m window_size[\u001b[38;5;241m1\u001b[39m], x:x \u001b[38;5;241m+\u001b[39m window_size[\u001b[38;5;241m0\u001b[39m]])\n",
      "\u001b[1;31mAttributeError\u001b[0m: 'NoneType' object has no attribute 'shape'"
     ]
    }
   ],
   "source": [
    "import cv2\n",
    "import numpy as np\n",
    "from skimage.io import imread, imshow\n",
    "from skimage.transform import resize\n",
    "from skimage.feature import hog\n",
    "from skimage import exposure\n",
    "from skimage.feature import hog\n",
    "from scipy.spatial.distance import cosine\n",
    "from sklearn import svm\n",
    "from PIL import Image\n",
    "\n",
    "\n",
    "# Define the sliding window function\n",
    "def sliding_window(image, step_size, window_size):\n",
    "    \"\"\"\n",
    "    Slide a window across the image and return the window location and content.\n",
    "    \"\"\"\n",
    "    for y in range(0, image.shape[0] - window_size[1], step_size):\n",
    "        for x in range(0, image.shape[1] - window_size[0], step_size):\n",
    "            yield (x, y, image[y:y + window_size[1], x:x + window_size[0]])\n",
    "            \n",
    "            \n",
    "# Define the convert to vector function\n",
    "def convert_to_vector(arr):\n",
    "    \"\"\"\n",
    "    Flatten a multi-dimensional array into a one-dimensional vector.\n",
    "    \"\"\"\n",
    "    return arr.flatten()   \n",
    "     \n",
    "\n",
    "# Load the image A and extract its HOG features\n",
    "image_a = cv2.imread('numplate.jpg', 0)\n",
    "\n",
    "#resizing image \n",
    "resized_image_a = resize(image_a, (100,150)) \n",
    "\n",
    "\n",
    "hog_features_a = hog(resized_image_a, orientations=9, pixels_per_cell=(8, 8), cells_per_block=(3, 3))\n",
    "\n",
    "# Load the image B\n",
    "image_b = cv2.imread('numplate4.png', 0)\n",
    "\n",
    "\n",
    "# Initialize variables to store the maximum similarity and best location\n",
    "max_sim = 0\n",
    "best_loc = None\n",
    "\n",
    "# Define the sliding window parameters\n",
    "window_size = (100, 100)\n",
    "step_size = 1\n",
    "\n",
    "# Slide the window across the image B and detect the presence of image A\n",
    "for (x, y, sub_image) in sliding_window(image_b, step_size, window_size):\n",
    "    \n",
    "    #resizing sub_image \n",
    "    resized_sub_image = resize(sub_image, (100,150)) \n",
    "\n",
    "    \n",
    "    # Extract the HOG features of the sub-image\n",
    "    hog_features_b = hog(resized_sub_image, orientations=9, pixels_per_cell=(8, 8), cells_per_block=(3, 3))\n",
    "\n",
    "    \n",
    "    # Compute the cosine similarity between the HOG features of image A and the sub-image\n",
    "    sim = 1 - cosine(hog_features_a, hog_features_b)\n",
    "\n",
    "    # Update the maximum similarity and best location if necessary\n",
    "    if sim >= max_sim:\n",
    "        max_sim = sim\n",
    "        best_loc = (x, y)\n",
    "        \n",
    "# Draw a rectangle around the detected location\n",
    "cv2.rectangle(image_b, best_loc, (best_loc[0] + window_size[0], best_loc[1] + window_size[1]), (0, 255, 0), 2)\n",
    "print(cv2.rectangle)\n",
    "\n",
    "# Show the result\n",
    "cv2.imshow('Result', image_b)\n",
    "cv2.waitKey(0)\n",
    "cv2.destroyAllWindows()           "
   ]
  },
  {
   "cell_type": "code",
   "execution_count": null,
   "id": "616833fa",
   "metadata": {},
   "outputs": [],
   "source": []
  }
 ],
 "metadata": {
  "kernelspec": {
   "display_name": "Python 3 (ipykernel)",
   "language": "python",
   "name": "python3"
  },
  "language_info": {
   "codemirror_mode": {
    "name": "ipython",
    "version": 3
   },
   "file_extension": ".py",
   "mimetype": "text/x-python",
   "name": "python",
   "nbconvert_exporter": "python",
   "pygments_lexer": "ipython3",
   "version": "3.11.4"
  }
 },
 "nbformat": 4,
 "nbformat_minor": 5
}
